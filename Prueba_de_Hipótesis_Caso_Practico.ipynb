{
  "nbformat": 4,
  "nbformat_minor": 0,
  "metadata": {
    "colab": {
      "provenance": [],
      "authorship_tag": "ABX9TyMo68ndoM7YZYGvRzULaUvt",
      "include_colab_link": true
    },
    "kernelspec": {
      "name": "python3",
      "display_name": "Python 3"
    },
    "language_info": {
      "name": "python"
    }
  },
  "cells": [
    {
      "cell_type": "markdown",
      "metadata": {
        "id": "view-in-github",
        "colab_type": "text"
      },
      "source": [
        "<a href=\"https://colab.research.google.com/github/antoniorendonc/DataScience/blob/main/Prueba_de_Hip%C3%B3tesis_Caso_Practico.ipynb\" target=\"_parent\"><img src=\"https://colab.research.google.com/assets/colab-badge.svg\" alt=\"Open In Colab\"/></a>"
      ]
    },
    {
      "cell_type": "markdown",
      "source": [
        "# Prueba de hipotesis  (Caso practico)\n",
        "\n",
        "En este notebook llevaremos a la practica los conceptos de Hypothesis testing, para ello usaremos un dataset con los sueldos quincenales de empleados de la ciudad de México (https://datos.cdmx.gob.mx/ )\n"
      ],
      "metadata": {
        "id": "Ma29ok8m3m9e"
      }
    },
    {
      "cell_type": "markdown",
      "source": [
        "### Importamos las librerias necesarias"
      ],
      "metadata": {
        "id": "P-oG3r5v4BGy"
      }
    },
    {
      "cell_type": "code",
      "source": [
        "import pandas as pd\n",
        "import matplotlib.pyplot as plt\n",
        "import numpy as np\n",
        "import scipy.stats as stats\n",
        "from scipy.stats import t"
      ],
      "metadata": {
        "id": "jFpWsy-GBW6f"
      },
      "execution_count": 39,
      "outputs": []
    },
    {
      "cell_type": "markdown",
      "source": [
        "Cargamos nuestro dataset , lo llamaremos sueldos_cdmx\n",
        "y mostraremos las primeras 10 filas"
      ],
      "metadata": {
        "id": "JNG5pfJm4Ix6"
      }
    },
    {
      "cell_type": "code",
      "source": [
        "\n",
        "sueldos_cdmx = pd.read_csv('sueldos_qna.csv', encoding='ISO-8859-1')\n",
        "sueldos_cdmx.head(10)"
      ],
      "metadata": {
        "colab": {
          "base_uri": "https://localhost:8080/",
          "height": 415
        },
        "id": "1pYGVj2AuVox",
        "outputId": "ba7f22bc-5fc1-4140-b653-76e93293db5c"
      },
      "execution_count": 40,
      "outputs": [
        {
          "output_type": "execute_result",
          "data": {
            "text/plain": [
              "        sexo  edad                               puesto     contrato  \\\n",
              "0   FEMENINO    41       ADMINISTRATIVO ESPECIALIZADO L         BASE   \n",
              "1  MASCULINO    41                AUXILIAR DE SERVICIOS         BASE   \n",
              "2  MASCULINO    41                AUXILIAR DE SERVICIOS         BASE   \n",
              "3   FEMENINO    41  APOYO ADMTVO EN AREAS ESPECIFICAS A         BASE   \n",
              "4  MASCULINO    41                              BOMBERO      HABERES   \n",
              "5  MASCULINO    41    APOYO ADMTVO EN AREAS ESPECIFICAS         BASE   \n",
              "6  MASCULINO    41                OPERATIVO GENERALPR A  PROVISIONAL   \n",
              "7  MASCULINO    41                OPERATIVO GENERALPR A  PROVISIONAL   \n",
              "8  MASCULINO    41                OPERATIVO GENERALPR A  PROVISIONAL   \n",
              "9  MASCULINO    41                OPERATIVO GENERALPR A  PROVISIONAL   \n",
              "\n",
              "                                 sector    sueldo  \n",
              "0             ALCALDIA DE BENITO JUAREZ  13377.45  \n",
              "1         ALCALDIA DE GUSTAVO A. MADERO   7549.19  \n",
              "2                ALCALDIA DE CUAUHTEMOC   6875.60  \n",
              "3       ALCALDIA DE VENUSTIANO CARRANZA   7549.19  \n",
              "4  HEROICO CUERPO DE BOMBEROS DEL D. F.  14568.89  \n",
              "5            ALCALDIA DE MIGUEL HIDALGO   6875.60  \n",
              "6                ALCALDIA DE MILPA ALTA   6194.06  \n",
              "7                ALCALDIA DE IZTAPALAPA   6194.06  \n",
              "8                ALCALDIA DE CUAUHTEMOC   6194.06  \n",
              "9                ALCALDIA DE IZTAPALAPA   6194.06  "
            ],
            "text/html": [
              "\n",
              "  <div id=\"df-c3cc7e8e-5a03-444e-8a6f-7fa8eeeb40bb\" class=\"colab-df-container\">\n",
              "    <div>\n",
              "<style scoped>\n",
              "    .dataframe tbody tr th:only-of-type {\n",
              "        vertical-align: middle;\n",
              "    }\n",
              "\n",
              "    .dataframe tbody tr th {\n",
              "        vertical-align: top;\n",
              "    }\n",
              "\n",
              "    .dataframe thead th {\n",
              "        text-align: right;\n",
              "    }\n",
              "</style>\n",
              "<table border=\"1\" class=\"dataframe\">\n",
              "  <thead>\n",
              "    <tr style=\"text-align: right;\">\n",
              "      <th></th>\n",
              "      <th>sexo</th>\n",
              "      <th>edad</th>\n",
              "      <th>puesto</th>\n",
              "      <th>contrato</th>\n",
              "      <th>sector</th>\n",
              "      <th>sueldo</th>\n",
              "    </tr>\n",
              "  </thead>\n",
              "  <tbody>\n",
              "    <tr>\n",
              "      <th>0</th>\n",
              "      <td>FEMENINO</td>\n",
              "      <td>41</td>\n",
              "      <td>ADMINISTRATIVO ESPECIALIZADO L</td>\n",
              "      <td>BASE</td>\n",
              "      <td>ALCALDIA DE BENITO JUAREZ</td>\n",
              "      <td>13377.45</td>\n",
              "    </tr>\n",
              "    <tr>\n",
              "      <th>1</th>\n",
              "      <td>MASCULINO</td>\n",
              "      <td>41</td>\n",
              "      <td>AUXILIAR DE SERVICIOS</td>\n",
              "      <td>BASE</td>\n",
              "      <td>ALCALDIA DE GUSTAVO A. MADERO</td>\n",
              "      <td>7549.19</td>\n",
              "    </tr>\n",
              "    <tr>\n",
              "      <th>2</th>\n",
              "      <td>MASCULINO</td>\n",
              "      <td>41</td>\n",
              "      <td>AUXILIAR DE SERVICIOS</td>\n",
              "      <td>BASE</td>\n",
              "      <td>ALCALDIA DE CUAUHTEMOC</td>\n",
              "      <td>6875.60</td>\n",
              "    </tr>\n",
              "    <tr>\n",
              "      <th>3</th>\n",
              "      <td>FEMENINO</td>\n",
              "      <td>41</td>\n",
              "      <td>APOYO ADMTVO EN AREAS ESPECIFICAS A</td>\n",
              "      <td>BASE</td>\n",
              "      <td>ALCALDIA DE VENUSTIANO CARRANZA</td>\n",
              "      <td>7549.19</td>\n",
              "    </tr>\n",
              "    <tr>\n",
              "      <th>4</th>\n",
              "      <td>MASCULINO</td>\n",
              "      <td>41</td>\n",
              "      <td>BOMBERO</td>\n",
              "      <td>HABERES</td>\n",
              "      <td>HEROICO CUERPO DE BOMBEROS DEL D. F.</td>\n",
              "      <td>14568.89</td>\n",
              "    </tr>\n",
              "    <tr>\n",
              "      <th>5</th>\n",
              "      <td>MASCULINO</td>\n",
              "      <td>41</td>\n",
              "      <td>APOYO ADMTVO EN AREAS ESPECIFICAS</td>\n",
              "      <td>BASE</td>\n",
              "      <td>ALCALDIA DE MIGUEL HIDALGO</td>\n",
              "      <td>6875.60</td>\n",
              "    </tr>\n",
              "    <tr>\n",
              "      <th>6</th>\n",
              "      <td>MASCULINO</td>\n",
              "      <td>41</td>\n",
              "      <td>OPERATIVO GENERALPR A</td>\n",
              "      <td>PROVISIONAL</td>\n",
              "      <td>ALCALDIA DE MILPA ALTA</td>\n",
              "      <td>6194.06</td>\n",
              "    </tr>\n",
              "    <tr>\n",
              "      <th>7</th>\n",
              "      <td>MASCULINO</td>\n",
              "      <td>41</td>\n",
              "      <td>OPERATIVO GENERALPR A</td>\n",
              "      <td>PROVISIONAL</td>\n",
              "      <td>ALCALDIA DE IZTAPALAPA</td>\n",
              "      <td>6194.06</td>\n",
              "    </tr>\n",
              "    <tr>\n",
              "      <th>8</th>\n",
              "      <td>MASCULINO</td>\n",
              "      <td>41</td>\n",
              "      <td>OPERATIVO GENERALPR A</td>\n",
              "      <td>PROVISIONAL</td>\n",
              "      <td>ALCALDIA DE CUAUHTEMOC</td>\n",
              "      <td>6194.06</td>\n",
              "    </tr>\n",
              "    <tr>\n",
              "      <th>9</th>\n",
              "      <td>MASCULINO</td>\n",
              "      <td>41</td>\n",
              "      <td>OPERATIVO GENERALPR A</td>\n",
              "      <td>PROVISIONAL</td>\n",
              "      <td>ALCALDIA DE IZTAPALAPA</td>\n",
              "      <td>6194.06</td>\n",
              "    </tr>\n",
              "  </tbody>\n",
              "</table>\n",
              "</div>\n",
              "    <div class=\"colab-df-buttons\">\n",
              "\n",
              "  <div class=\"colab-df-container\">\n",
              "    <button class=\"colab-df-convert\" onclick=\"convertToInteractive('df-c3cc7e8e-5a03-444e-8a6f-7fa8eeeb40bb')\"\n",
              "            title=\"Convert this dataframe to an interactive table.\"\n",
              "            style=\"display:none;\">\n",
              "\n",
              "  <svg xmlns=\"http://www.w3.org/2000/svg\" height=\"24px\" viewBox=\"0 -960 960 960\">\n",
              "    <path d=\"M120-120v-720h720v720H120Zm60-500h600v-160H180v160Zm220 220h160v-160H400v160Zm0 220h160v-160H400v160ZM180-400h160v-160H180v160Zm440 0h160v-160H620v160ZM180-180h160v-160H180v160Zm440 0h160v-160H620v160Z\"/>\n",
              "  </svg>\n",
              "    </button>\n",
              "\n",
              "  <style>\n",
              "    .colab-df-container {\n",
              "      display:flex;\n",
              "      gap: 12px;\n",
              "    }\n",
              "\n",
              "    .colab-df-convert {\n",
              "      background-color: #E8F0FE;\n",
              "      border: none;\n",
              "      border-radius: 50%;\n",
              "      cursor: pointer;\n",
              "      display: none;\n",
              "      fill: #1967D2;\n",
              "      height: 32px;\n",
              "      padding: 0 0 0 0;\n",
              "      width: 32px;\n",
              "    }\n",
              "\n",
              "    .colab-df-convert:hover {\n",
              "      background-color: #E2EBFA;\n",
              "      box-shadow: 0px 1px 2px rgba(60, 64, 67, 0.3), 0px 1px 3px 1px rgba(60, 64, 67, 0.15);\n",
              "      fill: #174EA6;\n",
              "    }\n",
              "\n",
              "    .colab-df-buttons div {\n",
              "      margin-bottom: 4px;\n",
              "    }\n",
              "\n",
              "    [theme=dark] .colab-df-convert {\n",
              "      background-color: #3B4455;\n",
              "      fill: #D2E3FC;\n",
              "    }\n",
              "\n",
              "    [theme=dark] .colab-df-convert:hover {\n",
              "      background-color: #434B5C;\n",
              "      box-shadow: 0px 1px 3px 1px rgba(0, 0, 0, 0.15);\n",
              "      filter: drop-shadow(0px 1px 2px rgba(0, 0, 0, 0.3));\n",
              "      fill: #FFFFFF;\n",
              "    }\n",
              "  </style>\n",
              "\n",
              "    <script>\n",
              "      const buttonEl =\n",
              "        document.querySelector('#df-c3cc7e8e-5a03-444e-8a6f-7fa8eeeb40bb button.colab-df-convert');\n",
              "      buttonEl.style.display =\n",
              "        google.colab.kernel.accessAllowed ? 'block' : 'none';\n",
              "\n",
              "      async function convertToInteractive(key) {\n",
              "        const element = document.querySelector('#df-c3cc7e8e-5a03-444e-8a6f-7fa8eeeb40bb');\n",
              "        const dataTable =\n",
              "          await google.colab.kernel.invokeFunction('convertToInteractive',\n",
              "                                                    [key], {});\n",
              "        if (!dataTable) return;\n",
              "\n",
              "        const docLinkHtml = 'Like what you see? Visit the ' +\n",
              "          '<a target=\"_blank\" href=https://colab.research.google.com/notebooks/data_table.ipynb>data table notebook</a>'\n",
              "          + ' to learn more about interactive tables.';\n",
              "        element.innerHTML = '';\n",
              "        dataTable['output_type'] = 'display_data';\n",
              "        await google.colab.output.renderOutput(dataTable, element);\n",
              "        const docLink = document.createElement('div');\n",
              "        docLink.innerHTML = docLinkHtml;\n",
              "        element.appendChild(docLink);\n",
              "      }\n",
              "    </script>\n",
              "  </div>\n",
              "\n",
              "\n",
              "<div id=\"df-c3520154-71fc-4774-8385-30ddf8282c93\">\n",
              "  <button class=\"colab-df-quickchart\" onclick=\"quickchart('df-c3520154-71fc-4774-8385-30ddf8282c93')\"\n",
              "            title=\"Suggest charts.\"\n",
              "            style=\"display:none;\">\n",
              "\n",
              "<svg xmlns=\"http://www.w3.org/2000/svg\" height=\"24px\"viewBox=\"0 0 24 24\"\n",
              "     width=\"24px\">\n",
              "    <g>\n",
              "        <path d=\"M19 3H5c-1.1 0-2 .9-2 2v14c0 1.1.9 2 2 2h14c1.1 0 2-.9 2-2V5c0-1.1-.9-2-2-2zM9 17H7v-7h2v7zm4 0h-2V7h2v10zm4 0h-2v-4h2v4z\"/>\n",
              "    </g>\n",
              "</svg>\n",
              "  </button>\n",
              "\n",
              "<style>\n",
              "  .colab-df-quickchart {\n",
              "      --bg-color: #E8F0FE;\n",
              "      --fill-color: #1967D2;\n",
              "      --hover-bg-color: #E2EBFA;\n",
              "      --hover-fill-color: #174EA6;\n",
              "      --disabled-fill-color: #AAA;\n",
              "      --disabled-bg-color: #DDD;\n",
              "  }\n",
              "\n",
              "  [theme=dark] .colab-df-quickchart {\n",
              "      --bg-color: #3B4455;\n",
              "      --fill-color: #D2E3FC;\n",
              "      --hover-bg-color: #434B5C;\n",
              "      --hover-fill-color: #FFFFFF;\n",
              "      --disabled-bg-color: #3B4455;\n",
              "      --disabled-fill-color: #666;\n",
              "  }\n",
              "\n",
              "  .colab-df-quickchart {\n",
              "    background-color: var(--bg-color);\n",
              "    border: none;\n",
              "    border-radius: 50%;\n",
              "    cursor: pointer;\n",
              "    display: none;\n",
              "    fill: var(--fill-color);\n",
              "    height: 32px;\n",
              "    padding: 0;\n",
              "    width: 32px;\n",
              "  }\n",
              "\n",
              "  .colab-df-quickchart:hover {\n",
              "    background-color: var(--hover-bg-color);\n",
              "    box-shadow: 0 1px 2px rgba(60, 64, 67, 0.3), 0 1px 3px 1px rgba(60, 64, 67, 0.15);\n",
              "    fill: var(--button-hover-fill-color);\n",
              "  }\n",
              "\n",
              "  .colab-df-quickchart-complete:disabled,\n",
              "  .colab-df-quickchart-complete:disabled:hover {\n",
              "    background-color: var(--disabled-bg-color);\n",
              "    fill: var(--disabled-fill-color);\n",
              "    box-shadow: none;\n",
              "  }\n",
              "\n",
              "  .colab-df-spinner {\n",
              "    border: 2px solid var(--fill-color);\n",
              "    border-color: transparent;\n",
              "    border-bottom-color: var(--fill-color);\n",
              "    animation:\n",
              "      spin 1s steps(1) infinite;\n",
              "  }\n",
              "\n",
              "  @keyframes spin {\n",
              "    0% {\n",
              "      border-color: transparent;\n",
              "      border-bottom-color: var(--fill-color);\n",
              "      border-left-color: var(--fill-color);\n",
              "    }\n",
              "    20% {\n",
              "      border-color: transparent;\n",
              "      border-left-color: var(--fill-color);\n",
              "      border-top-color: var(--fill-color);\n",
              "    }\n",
              "    30% {\n",
              "      border-color: transparent;\n",
              "      border-left-color: var(--fill-color);\n",
              "      border-top-color: var(--fill-color);\n",
              "      border-right-color: var(--fill-color);\n",
              "    }\n",
              "    40% {\n",
              "      border-color: transparent;\n",
              "      border-right-color: var(--fill-color);\n",
              "      border-top-color: var(--fill-color);\n",
              "    }\n",
              "    60% {\n",
              "      border-color: transparent;\n",
              "      border-right-color: var(--fill-color);\n",
              "    }\n",
              "    80% {\n",
              "      border-color: transparent;\n",
              "      border-right-color: var(--fill-color);\n",
              "      border-bottom-color: var(--fill-color);\n",
              "    }\n",
              "    90% {\n",
              "      border-color: transparent;\n",
              "      border-bottom-color: var(--fill-color);\n",
              "    }\n",
              "  }\n",
              "</style>\n",
              "\n",
              "  <script>\n",
              "    async function quickchart(key) {\n",
              "      const quickchartButtonEl =\n",
              "        document.querySelector('#' + key + ' button');\n",
              "      quickchartButtonEl.disabled = true;  // To prevent multiple clicks.\n",
              "      quickchartButtonEl.classList.add('colab-df-spinner');\n",
              "      try {\n",
              "        const charts = await google.colab.kernel.invokeFunction(\n",
              "            'suggestCharts', [key], {});\n",
              "      } catch (error) {\n",
              "        console.error('Error during call to suggestCharts:', error);\n",
              "      }\n",
              "      quickchartButtonEl.classList.remove('colab-df-spinner');\n",
              "      quickchartButtonEl.classList.add('colab-df-quickchart-complete');\n",
              "    }\n",
              "    (() => {\n",
              "      let quickchartButtonEl =\n",
              "        document.querySelector('#df-c3520154-71fc-4774-8385-30ddf8282c93 button');\n",
              "      quickchartButtonEl.style.display =\n",
              "        google.colab.kernel.accessAllowed ? 'block' : 'none';\n",
              "    })();\n",
              "  </script>\n",
              "</div>\n",
              "    </div>\n",
              "  </div>\n"
            ]
          },
          "metadata": {},
          "execution_count": 40
        }
      ]
    },
    {
      "cell_type": "markdown",
      "source": [
        "Ahora vamos a calcular la media de sueldos y su desviacion estandar"
      ],
      "metadata": {
        "id": "MSLMU91A4UdC"
      }
    },
    {
      "cell_type": "code",
      "source": [
        "# Calcular la media de los sueldos\n",
        "media_sueldos_cdmx = sueldos_cdmx['sueldo'].mean()\n",
        "\n",
        "# Calcular la desviación estándar de los sueldos\n",
        "sd_sueldos = sueldos_cdmx['sueldo'].std()\n",
        "\n",
        "print(f\"La media de los sueldos es: {media_sueldos_cdmx}\")\n",
        "print(f\"La desviación estándar de los sueldos es: {sd_sueldos}\")\n"
      ],
      "metadata": {
        "colab": {
          "base_uri": "https://localhost:8080/"
        },
        "id": "PJBp-2hR3aeE",
        "outputId": "b7290896-04d2-4fd9-d08c-c429aba38a31"
      },
      "execution_count": 42,
      "outputs": [
        {
          "output_type": "stream",
          "name": "stdout",
          "text": [
            "La media de los sueldos es: 11795.999636254615\n",
            "La desviación estándar de los sueldos es: 7142.090169488025\n"
          ]
        }
      ]
    },
    {
      "cell_type": "markdown",
      "source": [
        "## Pruebas de una muestra (One Sample Test)\n",
        "\n",
        "En la primera parte del presente estudio, abordaremos una prueba de hipótesis de una muestra, centrándonos en un grupo específico: los bomberos.\n",
        "\n",
        "\n",
        "El objetivo principal de esta prueba de hipótesis es determinar si el sueldo promedio de los bomberos difiere significativamente del sueldo promedio general en la población. Para ello, formularemos una hipótesis nula (H0) y una hipótesis alternativa (H1) que guiarán nuestro análisis.\n",
        "\n",
        "## 1. Declaración de Hipótesis\n",
        "\n",
        "**Hipótesis nula (H0):** El sueldo promedio de los bomberoses igual al sueldo promedio general de los empleados de CDMX.\n",
        "\n",
        "**Hipótesis alternativa (H1):** El sueldo promedio de los bomberos es mayor que el sueldo promedio de los empleados de CDMX\n",
        "\n",
        "\n",
        "Antes de continuar vamos a generar nuestra muestra de sueldos del personal que pertenece al HEROICO CUERPO DE BOMBEROS, lo haremos mediante bootstrap."
      ],
      "metadata": {
        "id": "RU0YdQuW4gLS"
      }
    },
    {
      "cell_type": "code",
      "source": [
        "# Crear el subset para los sueldos de los bomberos en CDMX\n",
        "sueldo_bomberos_cdmx = sueldos_cdmx[sueldos_cdmx['sector'] == 'HEROICO CUERPO DE BOMBEROS DEL D. F.']['sueldo']\n",
        "sueldos_bomberos = sueldo_bomberos_cdmx.unique()\n"
      ],
      "metadata": {
        "id": "3aAGbsYsnDv3"
      },
      "execution_count": 44,
      "outputs": []
    },
    {
      "cell_type": "markdown",
      "source": [
        "## 2. Elección de Alpha\n",
        "\n",
        "Definimos nuestro nivel de significancia, alpha (α), que representa el umbral para rechazar la hipótesis nula. Usaremos un valor típico de alpha de 0.05.\n"
      ],
      "metadata": {
        "id": "kBcjbZauov4Z"
      }
    },
    {
      "cell_type": "code",
      "source": [
        "# 2.- alpha\n",
        "alpha = 0.05\n",
        "\n",
        "print(\"Valor de alpha:\", alpha)"
      ],
      "metadata": {
        "colab": {
          "base_uri": "https://localhost:8080/"
        },
        "id": "XDjddh4v7Aje",
        "outputId": "67e9fa20-9890-4e2d-9ba8-d32c6cc7eb69"
      },
      "execution_count": 24,
      "outputs": [
        {
          "output_type": "stream",
          "name": "stdout",
          "text": [
            "Valor de alpha: 0.05\n"
          ]
        }
      ]
    },
    {
      "cell_type": "markdown",
      "source": [
        "## 3. Cálculo de Estadísticos de Prueba\n",
        "\n",
        "Para realizar la prueba, utilizaremos una prueba t de una muestra para comparar el sueldo promedio de los bomberos con el sueldo promedio general en la población.\n",
        "\n",
        "En este caso dado que nuestra Ha indica que el sueldo de los bomberos es MAYOR que el promedio de los empleados de CDMX, se trata de una prueba de cola derecha"
      ],
      "metadata": {
        "id": "8KEpGGNKpPsB"
      }
    },
    {
      "cell_type": "code",
      "source": [
        "# Calcula la media y desviación estándar de la muestra\n",
        "media_sueldos_bomberos = np.mean(sueldos_bomberos)\n",
        "sd_muestra = np.std(sueldos_bomberos, ddof=1)  # ddof=1 para tener una estimación imparcial\n",
        "\n",
        "# Tamaño de la muestra (n)\n",
        "n = len(sueldos_bomberos)\n",
        "\n",
        "# Calcula el error estándar\n",
        "se = sd_muestra / (n ** 0.5)\n",
        "\n",
        "# Calcula el estadístico t\n",
        "t_stat = (media_sueldos_bomberos - media_sueldos_cdmx) / se\n",
        "\n",
        "print(t_stat)"
      ],
      "metadata": {
        "colab": {
          "base_uri": "https://localhost:8080/"
        },
        "id": "UcpIHsJt_0la",
        "outputId": "f7cf4633-fea2-41e7-ceb4-4f8c224ab995"
      },
      "execution_count": 76,
      "outputs": [
        {
          "output_type": "stream",
          "name": "stdout",
          "text": [
            "3.164506126710565\n"
          ]
        }
      ]
    },
    {
      "cell_type": "markdown",
      "source": [
        "## 4. Cálculo del P-valor\n",
        "Con el valor obtenido de __t_stat__ procedemos a calcular el p-value, usando la funcion CDF , recordemos que esta funcion calcula el area bajo la curva, pero dado que queremos el lado derecho de la curva debemos usar __1 - CDF__\n"
      ],
      "metadata": {
        "id": "Im7sjXIMq21Q"
      }
    },
    {
      "cell_type": "code",
      "source": [
        "# Calcular el p-valor de una cola derecha (prueba de una cola)\n",
        "p_valor = 1 - t.cdf(t_stat, df=n-1)  # df=n-1 para grados de libertad\n",
        "\n",
        "\n",
        "print(\"P-value:\", p_valor)\n"
      ],
      "metadata": {
        "colab": {
          "base_uri": "https://localhost:8080/"
        },
        "id": "Ucrwkti-q2fp",
        "outputId": "65ed9022-8d59-4763-83b4-a8a959eac108"
      },
      "execution_count": 79,
      "outputs": [
        {
          "output_type": "stream",
          "name": "stdout",
          "text": [
            "P-value: 0.0018163708999983097\n"
          ]
        }
      ]
    },
    {
      "cell_type": "markdown",
      "source": [
        "## 5. Decisión\n",
        "\n",
        "Tomaremos una decisión basada en el p-valor:\n",
        "- Si el p-valor es menor que alpha (p < α), rechazamos la hipótesis nula (H0).\n",
        "- Si el p-valor es mayor o igual a alpha (p ≥ α), no rechazamos la hipótesis nula (H0)."
      ],
      "metadata": {
        "id": "tISKs3HErIyU"
      }
    },
    {
      "cell_type": "code",
      "source": [
        "if p_valor < alpha:\n",
        "    decision = \"Rechazamos la hipótesis nula (H0)\"\n",
        "else:\n",
        "    decision = \"No rechazamos la hipótesis nula (H0)\"\n",
        "\n",
        "print(decision)"
      ],
      "metadata": {
        "colab": {
          "base_uri": "https://localhost:8080/"
        },
        "id": "aB7q8gAQrUGB",
        "outputId": "c4596f26-2520-41de-c2b5-15bf0c1897bc"
      },
      "execution_count": 78,
      "outputs": [
        {
          "output_type": "stream",
          "name": "stdout",
          "text": [
            "Rechazamos la hipótesis nula (H0)\n"
          ]
        }
      ]
    },
    {
      "cell_type": "markdown",
      "source": [
        "# Solucion alternativa:\n",
        "Podemos usar las funciones de la libreria scipy , para hacer el mismo calculo, como podemos ver se realiza en una sola linea de codigo, y nos arroja el mismo resultado\n"
      ],
      "metadata": {
        "id": "I38qUMPSAvbX"
      }
    },
    {
      "cell_type": "code",
      "source": [
        "from scipy.stats import ttest_1samp\n",
        "\n",
        "# Definiendo tus datos y la media de la población\n",
        "data = sueldos_bomberos\n",
        "mu = media_sueldos_cdmx\n",
        "\n",
        "# Realizando la prueba t de una muestra\n",
        "t_stat, p_valor = ttest_1samp(data, mu, alternative='greater')\n",
        "\n",
        "print(\"T-statistic:\", t_stat)\n",
        "print(\"P-value:\", p_valor)\n",
        "\n"
      ],
      "metadata": {
        "colab": {
          "base_uri": "https://localhost:8080/"
        },
        "id": "KlWFTJ4ByQwe",
        "outputId": "b60a7f3d-0952-469b-b9fe-ecda2b62a4dc"
      },
      "execution_count": 81,
      "outputs": [
        {
          "output_type": "stream",
          "name": "stdout",
          "text": [
            "T-statistic: 3.164506126710565\n",
            "P-value: 0.0018163708999982685\n"
          ]
        }
      ]
    },
    {
      "cell_type": "markdown",
      "source": [
        "# Conclusión\n",
        "\n",
        "Con un nivel de significancia del 0.05, hemos encontrado evidencia estadística para concluir que el sueldo promedio de los bomberos en CDMX es significativamente mayor que el sueldo promedio general de los empleados de la ciudad."
      ],
      "metadata": {
        "id": "hPrsCnposvRC"
      }
    }
  ]
}